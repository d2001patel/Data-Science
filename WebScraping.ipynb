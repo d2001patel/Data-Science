{
 "cells": [
  {
   "cell_type": "code",
   "execution_count": 6,
   "metadata": {
    "id": "bPQ6P_8SsMrP"
   },
   "outputs": [],
   "source": [
    "import requests\n",
    "from bs4 import BeautifulSoup\n",
    "import pandas as pd"
   ]
  },
  {
   "cell_type": "code",
   "execution_count": 7,
   "metadata": {
    "id": "tGmMfdOLHT-U"
   },
   "outputs": [],
   "source": [
    "Title=[]  #List to store title of most popular movie\n",
    "Year=[]   #List to store releasing year of each movie\n",
    "Rating=[] #List to store ratings of each movie\n",
    "\n",
    "url = \"https://www.imdb.com/chart/moviemeter\"\n",
    "content = requests.get(url).content\n",
    "\n",
    "soup = BeautifulSoup(content, \"html.parser\") \n",
    "\n",
    "for i in soup.find(\"tbody\", {\"class\":\"lister-list\"}).find_all(\"tr\"):\n",
    "    h = i.find(\"td\",{\"class\":\"titleColumn\"})\n",
    "    title = h.find(\"a\", href=True)\n",
    "    year = i.find(\"span\",{\"class\":\"secondaryInfo\"})\n",
    "    rating = i.find(\"td\",{\"class\":\"ratingColumn imdbRating\"})\n",
    "    \n",
    "    Title.append(title.text) \n",
    "    Year.append(year.text)\n",
    "    Rating.append(rating.text.strip(\"\\n\"))"
   ]
  },
  {
   "cell_type": "code",
   "execution_count": 8,
   "metadata": {
    "id": "3r_ySPG3LewB"
   },
   "outputs": [],
   "source": [
    "df=pd.DataFrame({'Most Popular Movies' : Title,'Year' : Year,'Rating' : Rating})\n",
    "df.to_csv('IMDb.csv', index=False, encoding='utf-8')\n",
    "data = pd.read_csv('IMDb.csv')"
   ]
  },
  {
   "cell_type": "code",
   "execution_count": 10,
   "metadata": {
    "colab": {
     "base_uri": "https://localhost:8080/",
     "height": 206
    },
    "id": "w08oALMyYCWa",
    "outputId": "307f625b-c4c5-4492-c759-68a8496b7209"
   },
   "outputs": [
    {
     "data": {
      "text/html": [
       "<div>\n",
       "<style scoped>\n",
       "    .dataframe tbody tr th:only-of-type {\n",
       "        vertical-align: middle;\n",
       "    }\n",
       "\n",
       "    .dataframe tbody tr th {\n",
       "        vertical-align: top;\n",
       "    }\n",
       "\n",
       "    .dataframe thead th {\n",
       "        text-align: right;\n",
       "    }\n",
       "</style>\n",
       "<table border=\"1\" class=\"dataframe\">\n",
       "  <thead>\n",
       "    <tr style=\"text-align: right;\">\n",
       "      <th></th>\n",
       "      <th>Most Popular Movies</th>\n",
       "      <th>Year</th>\n",
       "      <th>Rating</th>\n",
       "    </tr>\n",
       "  </thead>\n",
       "  <tbody>\n",
       "    <tr>\n",
       "      <th>0</th>\n",
       "      <td>Space Jam: A New Legacy</td>\n",
       "      <td>(2021)</td>\n",
       "      <td>4.4</td>\n",
       "    </tr>\n",
       "    <tr>\n",
       "      <th>1</th>\n",
       "      <td>Black Widow</td>\n",
       "      <td>(2021)</td>\n",
       "      <td>6.9</td>\n",
       "    </tr>\n",
       "    <tr>\n",
       "      <th>2</th>\n",
       "      <td>Old</td>\n",
       "      <td>(2021)</td>\n",
       "      <td>6.0</td>\n",
       "    </tr>\n",
       "    <tr>\n",
       "      <th>3</th>\n",
       "      <td>Pig</td>\n",
       "      <td>(2021)</td>\n",
       "      <td>7.0</td>\n",
       "    </tr>\n",
       "    <tr>\n",
       "      <th>4</th>\n",
       "      <td>Dune</td>\n",
       "      <td>(2021)</td>\n",
       "      <td>NaN</td>\n",
       "    </tr>\n",
       "    <tr>\n",
       "      <th>5</th>\n",
       "      <td>Gunpowder Milkshake</td>\n",
       "      <td>(2021)</td>\n",
       "      <td>6.0</td>\n",
       "    </tr>\n",
       "    <tr>\n",
       "      <th>6</th>\n",
       "      <td>Fear Street: 1994</td>\n",
       "      <td>(2021)</td>\n",
       "      <td>6.2</td>\n",
       "    </tr>\n",
       "    <tr>\n",
       "      <th>7</th>\n",
       "      <td>The Tomorrow War</td>\n",
       "      <td>(2021)</td>\n",
       "      <td>6.6</td>\n",
       "    </tr>\n",
       "    <tr>\n",
       "      <th>8</th>\n",
       "      <td>Fear Street: 1978</td>\n",
       "      <td>(2021)</td>\n",
       "      <td>6.8</td>\n",
       "    </tr>\n",
       "    <tr>\n",
       "      <th>9</th>\n",
       "      <td>Snake Eyes: G.I. Joe Origins</td>\n",
       "      <td>(2021)</td>\n",
       "      <td>5.7</td>\n",
       "    </tr>\n",
       "  </tbody>\n",
       "</table>\n",
       "</div>"
      ],
      "text/plain": [
       "            Most Popular Movies    Year  Rating\n",
       "0       Space Jam: A New Legacy  (2021)     4.4\n",
       "1                   Black Widow  (2021)     6.9\n",
       "2                           Old  (2021)     6.0\n",
       "3                           Pig  (2021)     7.0\n",
       "4                          Dune  (2021)     NaN\n",
       "5           Gunpowder Milkshake  (2021)     6.0\n",
       "6             Fear Street: 1994  (2021)     6.2\n",
       "7              The Tomorrow War  (2021)     6.6\n",
       "8             Fear Street: 1978  (2021)     6.8\n",
       "9  Snake Eyes: G.I. Joe Origins  (2021)     5.7"
      ]
     },
     "execution_count": 10,
     "metadata": {},
     "output_type": "execute_result"
    }
   ],
   "source": [
    "data.head(10)"
   ]
  },
  {
   "cell_type": "code",
   "execution_count": null,
   "metadata": {},
   "outputs": [],
   "source": []
  }
 ],
 "metadata": {
  "colab": {
   "collapsed_sections": [],
   "name": "WebScraping.ipynb",
   "provenance": []
  },
  "kernelspec": {
   "display_name": "Python 3",
   "language": "python",
   "name": "python3"
  },
  "language_info": {
   "codemirror_mode": {
    "name": "ipython",
    "version": 3
   },
   "file_extension": ".py",
   "mimetype": "text/x-python",
   "name": "python",
   "nbconvert_exporter": "python",
   "pygments_lexer": "ipython3",
   "version": "3.6.4"
  }
 },
 "nbformat": 4,
 "nbformat_minor": 4
}
